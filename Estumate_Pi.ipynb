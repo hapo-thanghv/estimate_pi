{
  "nbformat": 4,
  "nbformat_minor": 0,
  "metadata": {
    "colab": {
      "name": "Estumate_Pi.ipynb",
      "provenance": [],
      "authorship_tag": "ABX9TyPufFPh/KPcbptKdhfi5f5U",
      "include_colab_link": true
    },
    "kernelspec": {
      "name": "python3",
      "display_name": "Python 3"
    }
  },
  "cells": [
    {
      "cell_type": "markdown",
      "metadata": {
        "id": "view-in-github",
        "colab_type": "text"
      },
      "source": [
        "<a href=\"https://colab.research.google.com/github/hapo-thanghv/estimate_pi/blob/master/Estumate_Pi.ipynb\" target=\"_parent\"><img src=\"https://colab.research.google.com/assets/colab-badge.svg\" alt=\"Open In Colab\"/></a>"
      ]
    },
    {
      "cell_type": "code",
      "metadata": {
        "id": "Br7Kfi-F1mI9",
        "colab_type": "code",
        "colab": {}
      },
      "source": [
        "import random\n",
        "\n",
        "def estimate_pi(n):\n",
        "  num_point_circle = 0\n",
        "  num_point_total = 0\n",
        "  for _ in range(n):\n",
        "    x = random.uniform(0,1)\n",
        "    y = random.uniform(0,1)\n",
        "    distance = x**2 + y**2\n",
        "    if distance <= 1:\n",
        "      num_point_circle +=1\n",
        "    num_point_total +=1\n",
        "  return 4 * num_point_circle/num_point_total\n",
        "\n",
        "estimate_pi(1000000)"
      ],
      "execution_count": null,
      "outputs": []
    }
  ]
}